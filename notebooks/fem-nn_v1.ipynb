{
 "cells": [
  {
   "attachments": {},
   "cell_type": "markdown",
   "id": "b329b254",
   "metadata": {},
   "source": [
    "## Import .msh file in fenics"
   ]
  },
  {
   "cell_type": "code",
   "execution_count": 72,
   "id": "7dac0334",
   "metadata": {},
   "outputs": [],
   "source": [
    "# import meshio\n",
    "# mesh_from_file = meshio.read(\"path/to/msh/file\")\n",
    "\n",
    "# import numpy\n",
    "# def create_mesh(mesh, cell_type, prune_z=False):\n",
    "#     cells = mesh.get_cells_type(cell_type)\n",
    "#     points = mesh.points[:,:2] if prune_z else mesh.points\n",
    "#     out_mesh = meshio.Mesh(points=points, cells={cell_type: cells})\n",
    "#     return out_mesh\n",
    "\n",
    "# triangle_mesh = create_mesh(mesh_from_file, \"triangle\", prune_z=True)\n",
    "# meshio.write(\"path/to/xdmf/file\", triangle_mesh)\n",
    "\n",
    "# from dolfin import * \n",
    "# mesh = Mesh()\n",
    "# with XDMFFile(\"path/to/xdmf/file\") as infile:\n",
    "#     infile.read(mesh)\n",
    "    \n",
    "# plot(mesh);"
   ]
  },
  {
   "attachments": {},
   "cell_type": "markdown",
   "id": "469f5761",
   "metadata": {},
   "source": [
    "## Extract cell midpoints from msh file and add them to dat file"
   ]
  },
  {
   "cell_type": "code",
   "execution_count": 73,
   "id": "c099ac24",
   "metadata": {},
   "outputs": [],
   "source": [
    "# import meshio\n",
    "# import numpy as np\n",
    "\n",
    "# def convert_msh_to_dat(msh_file, dat_file):\n",
    "#     # Read the mesh file\n",
    "#     mesh = meshio.read(msh_file)\n",
    "\n",
    "#     # Get the cell midpoints\n",
    "#     cell_midpoints = []\n",
    "#     for cell_block in mesh.cells:\n",
    "#         cell_type = cell_block.type\n",
    "#         cell_data = cell_block.data\n",
    "#         if cell_type == \"triangle\":\n",
    "#             for cell_vertices in cell_data:\n",
    "#                 # Calculate the midpoint of the cell\n",
    "#                 midpoint = np.mean(mesh.points[cell_vertices], axis=0)\n",
    "#                 cell_midpoints.append(midpoint)\n",
    "\n",
    "#     # Convert the cell midpoints to a numpy array\n",
    "#     cell_midpoints = np.array(cell_midpoints)\n",
    "\n",
    "#     # Save the cell midpoints to the .dat file\n",
    "#     np.savetxt(dat_file, cell_midpoints, fmt=\"%.6f\")\n",
    "\n",
    "# # Specify the input .msh file and the output .dat file\n",
    "# msh_file = \"path/to/msh/file\"\n",
    "# dat_file = \"path/to/dat/file\"\n",
    "\n",
    "# # Convert .msh to .dat\n",
    "# convert_msh_to_dat(msh_file, dat_file)\n"
   ]
  },
  {
   "attachments": {},
   "cell_type": "markdown",
   "id": "6ba13862",
   "metadata": {},
   "source": [
    "## Flip the micrograph"
   ]
  },
  {
   "cell_type": "code",
   "execution_count": 74,
   "id": "175070fd",
   "metadata": {},
   "outputs": [],
   "source": [
    "# from PIL import Image, ImageOps\n",
    "# import matplotlib.pyplot as plt\n",
    "\n",
    "# def convert_colors(image_path):\n",
    "#     # Load the image\n",
    "#     image = Image.open(image_path)\n",
    "#     image = image.convert(\"RGB\")  # Convert image to RGB mode\n",
    "#     pixels = image.load()\n",
    "\n",
    "#     width, height = image.size\n",
    "\n",
    "#     # Flip the modified image vertically\n",
    "#     modified_image = ImageOps.flip(image)\n",
    "\n",
    "#     # Save the modified image\n",
    "#     new_image_path = \"modified_image.jpg\"  # Specify the desired output file path and name\n",
    "#     modified_image.save(new_image_path)\n",
    "\n",
    "#     print(\"Image flipping completed. Modified image saved as\", new_image_path)\n",
    "\n",
    "#     # Display the modified image\n",
    "#     plt.imshow(modified_image)\n",
    "#     plt.axis('off')\n",
    "#     plt.show()\n",
    "\n",
    "# def in_range(color, color_range):\n",
    "#     # Check if the color is within the specified range\n",
    "#     min_values, max_values = color_range\n",
    "#     return all(c >= min_v and c <= max_v for c, (min_v, max_v) in zip(color, zip(min_values, max_values)))\n",
    "\n",
    "# # Example usage\n",
    "# image_path = \"path/to/image/to/flip\"  # Specify the path to your input image file\n",
    "# convert_colors(image_path)\n"
   ]
  },
  {
   "attachments": {},
   "cell_type": "markdown",
   "id": "dd0ea6e8",
   "metadata": {},
   "source": [
    "## Add image, msh file get dat file with fourth colmn as material property \n",
    "## CAUTION: ALWAYS ADD THE FLIPPED BOY HERE (FLIPPED AROUND Y = IMAGE HEIGHT HERE)"
   ]
  },
  {
   "cell_type": "code",
   "execution_count": 84,
   "id": "4afd2e7d",
   "metadata": {},
   "outputs": [],
   "source": [
    "# import numpy as np\n",
    "# import meshio\n",
    "# import imageio\n",
    "\n",
    "# def convert_image_to_dat(image_file, msh_file, dat_file):\n",
    "#     # Load the image\n",
    "#     image = imageio.v2.imread(image_file)\n",
    "\n",
    "#     # Load the mesh from .msh file\n",
    "#     mesh = meshio.read(msh_file)\n",
    "\n",
    "#     # Get the cell midpoints\n",
    "#     cell_midpoints = []\n",
    "#     for cell_block in mesh.cells:\n",
    "#         cell_type = cell_block.type\n",
    "#         cell_data = cell_block.data\n",
    "#         if cell_type == \"triangle\":\n",
    "#             for cell_vertices in cell_data:\n",
    "#                 # Calculate the midpoint of the cell\n",
    "#                 midpoint = np.mean(mesh.points[cell_vertices], axis=0)\n",
    "#                 cell_midpoints.append(midpoint)\n",
    "\n",
    "#     # Convert the image to .dat\n",
    "#     with open(dat_file, \"w\") as file:\n",
    "#         for midpoint in cell_midpoints:\n",
    "#             # Determine the color of the cell\n",
    "#             x_index = np.clip(int(midpoint[0]), 0, image.shape[1] - 1)\n",
    "#             y_index = np.clip(int(midpoint[1]), 0, image.shape[0] - 1)\n",
    "#             color = image[y_index, x_index][:3]\n",
    "\n",
    "#             # Determine the fourth column value based on color\n",
    "#             fourth_column = 1 if color[0] >= 127.5 else 0\n",
    "\n",
    "#             # Write the XYZ coordinates and fourth column value to the .dat file\n",
    "#             file.write(f\"{midpoint[0]} {midpoint[1]} {midpoint[2]} {fourth_column}\\n\")\n",
    "\n",
    "\n",
    "# # Specify the input image file, the mesh file (.msh), and the output .dat file\n",
    "# image_file = \"path/to/flip/image\"\n",
    "# msh_file = \"path/to/msh/file\"\n",
    "# dat_file = \"path/to/dat/file\"\n",
    "\n",
    "# # Convert the image to .dat\n",
    "# convert_image_to_dat(image_file, msh_file, dat_file)"
   ]
  },
  {
   "attachments": {},
   "cell_type": "markdown",
   "id": "b6216f59",
   "metadata": {},
   "source": [
    "## Extract material property and store in 1d array and see material id "
   ]
  },
  {
   "cell_type": "code",
   "execution_count": 76,
   "id": "29301840",
   "metadata": {},
   "outputs": [],
   "source": [
    "# def extract_fourth_column(dat_file):\n",
    "#     fourth_column = []\n",
    "#     with open(dat_file, \"r\") as file:\n",
    "#         for line in file:\n",
    "#             elements = line.strip().split()\n",
    "#             fourth_column.append(int(elements[3]))  # Assuming the fourth column is at index 3\n",
    "#     return fourth_column\n",
    "\n",
    "# # Provide the path to the DAT file\n",
    "# dat_file = \"path/to/dat/file\"\n",
    "\n",
    "# # Extract the fourth column elements\n",
    "# fourth_column_array = extract_fourth_column(dat_file)\n",
    "# fourth_column_array"
   ]
  },
  {
   "attachments": {},
   "cell_type": "markdown",
   "id": "7f3139a9",
   "metadata": {},
   "source": [
    "## Write that 1d array into xdmf file in mesh cell midpoint "
   ]
  },
  {
   "cell_type": "code",
   "execution_count": 77,
   "id": "b95d2233",
   "metadata": {},
   "outputs": [],
   "source": [
    "# import dolfin\n",
    "\n",
    "# materials = MeshFunction('double', mesh, 2)\n",
    "\n",
    "# V = VectorFunctionSpace(mesh, \"Lagrange\", 2)\n",
    "# u = Function(V)\n",
    "\n",
    "# local_values_material = np.zeros_like(u.vector().get_local())\n",
    "\n",
    "# for cell in cells(mesh):\n",
    "#     midpoint = cell.midpoint().array()\n",
    "#     i = (midpoint[0])\n",
    "#     j = (midpoint[1])\n",
    "#     k = (midpoint[2])\n",
    "#     local_values_material[cell.index()] = fourth_column_array[cell.index()]\n",
    "#     materials[cell] = int(local_values_material[cell.index()])\n",
    "#     print(midpoint, i, j , k, \"Material:\", materials[cell], \"Cell index: \", cell.index())\n",
    "    \n",
    "# u.vector().set_local(local_values_material)\n",
    "\n",
    "# dolfin.XDMFFile(dolfin.MPI.comm_world, \"path/to/xdmf/file\").write_checkpoint(u,\"u\",0)"
   ]
  },
  {
   "attachments": {},
   "cell_type": "markdown",
   "id": "146c8225",
   "metadata": {},
   "source": [
    "## Assigning different material properties to cell with different either material tag 0 or 1"
   ]
  },
  {
   "cell_type": "code",
   "execution_count": 78,
   "id": "754cfa02",
   "metadata": {},
   "outputs": [],
   "source": [
    "# import dolfin as dol\n",
    "# class al(dol.UserExpression):\n",
    "#     def __init__(self, materials, al0, al1, **kwargs):\n",
    "#         super().__init__(**kwargs)\n",
    "#         self.materials = materials\n",
    "#         self.k_0 = al0\n",
    "#         self.k_1 = al1\n",
    "#     def eval_cell(self, values, x, cell):\n",
    "#         if self.materials[cell.index] == 0:\n",
    "#             values[0] = self.k_0\n",
    "#         else:\n",
    "#             values[0] = self.k_1\n",
    "            \n",
    "# E1 = 21e3 (matrix)\n",
    "# nu1 = 0.3\n",
    "# E2 = 2100e3 (inclusion)\n",
    "# nu2 = 0.25\n",
    "\n",
    "# E = al(materials, E1, E2, degree = 0)\n",
    "# nu = al(materials, nu1, nu2, degree = 0)\n",
    "\n",
    "# File('path/to/save/.pvd/file') << project(E, FunctionSpace(mesh, 'DG', 0))\n",
    "# File('path/to/save/.pvd/file') << materials"
   ]
  },
  {
   "attachments": {},
   "cell_type": "markdown",
   "id": "93d2dc10",
   "metadata": {},
   "source": [
    "## Defining boundary conditions"
   ]
  },
  {
   "cell_type": "code",
   "execution_count": 79,
   "id": "fb535399",
   "metadata": {},
   "outputs": [],
   "source": [
    "# class left(SubDomain):\n",
    "#     def inside(self, x, on_boundary):\n",
    "#         return on_boundary and near(x[0], 0.)\n",
    "\n",
    "# class right(SubDomain):\n",
    "#     def inside(self, x, on_boundary):\n",
    "#         return on_boundary and near(x[0], 1023.)\n",
    "\n",
    "\n",
    "# boundaries = MeshFunction(\"size_t\", mesh, mesh.geometry().dim()-1)\n",
    "\n",
    "# left().mark(boundaries, 1) \n",
    "# right().mark(boundaries, 2) \n",
    "\n",
    "# bcs = [DirichletBC(V, Constant((0., 0.)), boundaries, 1), DirichletBC(V.sub(0), Constant((0.002)), boundaries, 2)]\n"
   ]
  },
  {
   "attachments": {},
   "cell_type": "markdown",
   "id": "443b0292",
   "metadata": {},
   "source": [
    "## Constitutive relations and constants"
   ]
  },
  {
   "cell_type": "code",
   "execution_count": 80,
   "id": "ebcd6cea",
   "metadata": {},
   "outputs": [],
   "source": [
    "# def eps(v):\n",
    "#     return sym(grad(v))\n",
    "\n",
    "# def sigma(v):\n",
    "#     return lmbda*tr(eps(v))*Identity(2) + 2.0*mu*eps(v)\n",
    "\n",
    "# mu = E/2/(1+nu)\n",
    "# lmbda = E*nu/(1+nu)/(1-2*nu)"
   ]
  },
  {
   "attachments": {},
   "cell_type": "markdown",
   "id": "9c8959f3",
   "metadata": {},
   "source": [
    "## Variational form, pde solve, plot of displacement"
   ]
  },
  {
   "cell_type": "code",
   "execution_count": 81,
   "id": "ab79cb61",
   "metadata": {},
   "outputs": [],
   "source": [
    "# f = 0.\n",
    "# f = Constant((0, f))\n",
    "\n",
    "# du = TrialFunction(V)\n",
    "# u_ = TestFunction(V)\n",
    "# a = inner(sigma(du), eps(u_))*dx\n",
    "# l = inner(f, u_)*dx\n",
    "\n",
    "# u = Function(V, name=\"Displacement\")\n",
    "# solve(a == l, u, bcs)\n",
    "\n",
    "# plot(1e3*u, mode=\"displacement\")"
   ]
  },
  {
   "attachments": {},
   "cell_type": "markdown",
   "id": "879869df",
   "metadata": {},
   "source": [
    "## Projecting Stress and storing in xdmf to visualize in paraview"
   ]
  },
  {
   "cell_type": "code",
   "execution_count": 82,
   "id": "e3c8939e",
   "metadata": {},
   "outputs": [],
   "source": [
    "# Vsig = TensorFunctionSpace(mesh, \"DG\", degree=0)\n",
    "# sig = Function(Vsig, name=\"Stress\")\n",
    "# sig.assign(project(sigma(u), Vsig))"
   ]
  },
  {
   "cell_type": "code",
   "execution_count": 83,
   "id": "34b08ce3",
   "metadata": {},
   "outputs": [],
   "source": [
    "# file_results = XDMFFile(\"path/to/save/.xdmf/file\")\n",
    "# file_results.parameters[\"flush_output\"] = True\n",
    "# file_results.parameters[\"functions_share_mesh\"] = True\n",
    "# file_results.write(u, 0.)\n",
    "# file_results.write(sig, 0.)"
   ]
  }
 ],
 "metadata": {
  "kernelspec": {
   "display_name": "Python 3 (ipykernel)",
   "language": "python",
   "name": "python3"
  },
  "language_info": {
   "codemirror_mode": {
    "name": "ipython",
    "version": 3
   },
   "file_extension": ".py",
   "mimetype": "text/x-python",
   "name": "python",
   "nbconvert_exporter": "python",
   "pygments_lexer": "ipython3",
   "version": "3.10.6"
  }
 },
 "nbformat": 4,
 "nbformat_minor": 5
}
